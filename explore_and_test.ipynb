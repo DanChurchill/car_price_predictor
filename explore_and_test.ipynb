{
 "cells": [
  {
   "cell_type": "code",
   "execution_count": 1,
   "id": "778909f4",
   "metadata": {},
   "outputs": [],
   "source": [
    "import numpy as np\n",
    "import pandas as pd\n",
    "import seaborn as sns\n",
    "import matplotlib.pyplot as plt\n",
    "from skimpy import skim\n",
    "\n",
    "from scipy import stats\n",
    "from sklearn.pipeline import Pipeline\n",
    "from sklearn.preprocessing import MinMaxScaler, StandardScaler\n",
    "from sklearn.linear_model import LinearRegression, LassoLars, TweedieRegressor, ElasticNet\n",
    "from sklearn.metrics import mean_squared_error, r2_score\n",
    "from sklearn.compose import TransformedTargetRegressor\n",
    "from category_encoders import TargetEncoder\n",
    "\n",
    "import xgboost as xgb\n",
    "\n",
    "# plotting defaults\n",
    "plt.rc('figure', figsize=(18, 9))\n",
    "plt.style.use('seaborn-whitegrid')\n",
    "plt.rc('font', size=16)\n",
    "\n",
    "import viz\n",
    "import wrangle\n",
    "import warnings\n",
    "warnings.filterwarnings(\"ignore\")"
   ]
  },
  {
   "cell_type": "code",
   "execution_count": 2,
   "id": "fa841ff7",
   "metadata": {},
   "outputs": [
    {
     "name": "stderr",
     "output_type": "stream",
     "text": [
      "b'Skipping line 408163: expected 16 fields, saw 17\\nSkipping line 417837: expected 16 fields, saw 17\\nSkipping line 421291: expected 16 fields, saw 17\\nSkipping line 424163: expected 16 fields, saw 17\\n'\n",
      "b'Skipping line 427042: expected 16 fields, saw 17\\nSkipping line 427045: expected 16 fields, saw 17\\nSkipping line 434426: expected 16 fields, saw 17\\nSkipping line 444503: expected 16 fields, saw 17\\nSkipping line 453796: expected 16 fields, saw 17\\n'\n",
      "b'Skipping line 461599: expected 16 fields, saw 17\\nSkipping line 461614: expected 16 fields, saw 17\\n'\n",
      "b'Skipping line 492486: expected 16 fields, saw 17\\nSkipping line 497010: expected 16 fields, saw 17\\nSkipping line 497013: expected 16 fields, saw 17\\nSkipping line 499085: expected 16 fields, saw 17\\nSkipping line 501457: expected 16 fields, saw 17\\nSkipping line 505301: expected 16 fields, saw 17\\nSkipping line 505308: expected 16 fields, saw 17\\nSkipping line 520463: expected 16 fields, saw 17\\n'\n",
      "b'Skipping line 528998: expected 16 fields, saw 17\\nSkipping line 529011: expected 16 fields, saw 17\\nSkipping line 529015: expected 16 fields, saw 17\\nSkipping line 529624: expected 16 fields, saw 17\\nSkipping line 548786: expected 16 fields, saw 17\\nSkipping line 551224: expected 16 fields, saw 17\\nSkipping line 554712: expected 16 fields, saw 17\\n'\n"
     ]
    }
   ],
   "source": [
    "df = pd.read_csv('car_prices.csv', error_bad_lines=False)"
   ]
  },
  {
   "cell_type": "code",
   "execution_count": 3,
   "id": "edbceb44",
   "metadata": {},
   "outputs": [],
   "source": [
    "df= wrangle.clean_cars(df)"
   ]
  },
  {
   "cell_type": "code",
   "execution_count": 4,
   "id": "c95a753f",
   "metadata": {},
   "outputs": [],
   "source": [
    "train, validate, test = wrangle.split_cars(df)"
   ]
  },
  {
   "cell_type": "code",
   "execution_count": 5,
   "id": "070b661f",
   "metadata": {},
   "outputs": [
    {
     "data": {
      "text/html": [
       "<pre style=\"white-space:pre;overflow-x:auto;line-height:normal;font-family:Menlo,'DejaVu Sans Mono',consolas,'Courier New',monospace\">╭──────────────────────────────────────────────── skimpy summary ─────────────────────────────────────────────────╮\n",
       "│ <span style=\"font-style: italic\">         Data Summary         </span> <span style=\"font-style: italic\">      Data Types       </span>                                                          │\n",
       "│ ┏━━━━━━━━━━━━━━━━━━━┳━━━━━━━━┓ ┏━━━━━━━━━━━━━┳━━━━━━━┓                                                          │\n",
       "│ ┃<span style=\"color: #008080; text-decoration-color: #008080; font-weight: bold\"> dataframe         </span>┃<span style=\"color: #008080; text-decoration-color: #008080; font-weight: bold\"> Values </span>┃ ┃<span style=\"color: #008080; text-decoration-color: #008080; font-weight: bold\"> Column Type </span>┃<span style=\"color: #008080; text-decoration-color: #008080; font-weight: bold\"> Count </span>┃                                                          │\n",
       "│ ┡━━━━━━━━━━━━━━━━━━━╇━━━━━━━━┩ ┡━━━━━━━━━━━━━╇━━━━━━━┩                                                          │\n",
       "│ │ Number of rows    │ 513877 │ │ string      │ 11    │                                                          │\n",
       "│ │ Number of columns │ 19     │ │ int64       │ 7     │                                                          │\n",
       "│ └───────────────────┴────────┘ │ float64     │ 1     │                                                          │\n",
       "│                                └─────────────┴───────┘                                                          │\n",
       "│ <span style=\"font-style: italic\">                                                    number                                                    </span>  │\n",
       "│ ┏━━━━━━━━━━━━━━━━━━━━━┳━━━━━━┳━━━━━━━━┳━━━━━━━━━┳━━━━━━━━━┳━━━━━━━━┳━━━━━━━━━┳━━━━━━━━━┳━━━━━━━━━━┳━━━━━━━━━━┓  │\n",
       "│ ┃<span style=\"font-weight: bold\"> column_name         </span>┃<span style=\"font-weight: bold\"> NA   </span>┃<span style=\"font-weight: bold\"> NA %   </span>┃<span style=\"font-weight: bold\"> mean    </span>┃<span style=\"font-weight: bold\"> sd      </span>┃<span style=\"font-weight: bold\"> p0     </span>┃<span style=\"font-weight: bold\"> p25     </span>┃<span style=\"font-weight: bold\"> p75     </span>┃<span style=\"font-weight: bold\"> p100     </span>┃<span style=\"font-weight: bold\"> hist     </span>┃  │\n",
       "│ ┡━━━━━━━━━━━━━━━━━━━━━╇━━━━━━╇━━━━━━━━╇━━━━━━━━━╇━━━━━━━━━╇━━━━━━━━╇━━━━━━━━━╇━━━━━━━━━╇━━━━━━━━━━╇━━━━━━━━━━┩  │\n",
       "│ │ <span style=\"color: #af87ff; text-decoration-color: #af87ff\">year               </span> │ <span style=\"color: #008080; text-decoration-color: #008080\">   0</span> │ <span style=\"color: #008080; text-decoration-color: #008080\">     0</span> │ <span style=\"color: #008080; text-decoration-color: #008080\">   2000</span> │ <span style=\"color: #008080; text-decoration-color: #008080\">    3.8</span> │ <span style=\"color: #008080; text-decoration-color: #008080\">  2000</span> │ <span style=\"color: #008080; text-decoration-color: #008080\">   2000</span> │ <span style=\"color: #008080; text-decoration-color: #008080\">   2000</span> │ <span style=\"color: #008080; text-decoration-color: #008080\">    2000</span> │ <span style=\"color: #008000; text-decoration-color: #008000\">   ▁▂▂█ </span> │  │\n",
       "│ │ <span style=\"color: #af87ff; text-decoration-color: #af87ff\">condition          </span> │ <span style=\"color: #008080; text-decoration-color: #008080\">   0</span> │ <span style=\"color: #008080; text-decoration-color: #008080\">     0</span> │ <span style=\"color: #008080; text-decoration-color: #008080\">    3.4</span> │ <span style=\"color: #008080; text-decoration-color: #008080\">   0.95</span> │ <span style=\"color: #008080; text-decoration-color: #008080\">     1</span> │ <span style=\"color: #008080; text-decoration-color: #008080\">    2.7</span> │ <span style=\"color: #008080; text-decoration-color: #008080\">    4.2</span> │ <span style=\"color: #008080; text-decoration-color: #008080\">       5</span> │ <span style=\"color: #008000; text-decoration-color: #008000\">  ▄▄▅█▅ </span> │  │\n",
       "│ │ <span style=\"color: #af87ff; text-decoration-color: #af87ff\">odometer           </span> │ <span style=\"color: #008080; text-decoration-color: #008080\">   0</span> │ <span style=\"color: #008080; text-decoration-color: #008080\">     0</span> │ <span style=\"color: #008080; text-decoration-color: #008080\">  66000</span> │ <span style=\"color: #008080; text-decoration-color: #008080\">  51000</span> │ <span style=\"color: #008080; text-decoration-color: #008080\">     1</span> │ <span style=\"color: #008080; text-decoration-color: #008080\">  28000</span> │ <span style=\"color: #008080; text-decoration-color: #008080\">  96000</span> │ <span style=\"color: #008080; text-decoration-color: #008080\">  500000</span> │ <span style=\"color: #008000; text-decoration-color: #008000\">  █▃▁   </span> │  │\n",
       "│ │ <span style=\"color: #af87ff; text-decoration-color: #af87ff\">mmr                </span> │ <span style=\"color: #008080; text-decoration-color: #008080\">   0</span> │ <span style=\"color: #008080; text-decoration-color: #008080\">     0</span> │ <span style=\"color: #008080; text-decoration-color: #008080\">  14000</span> │ <span style=\"color: #008080; text-decoration-color: #008080\">   8700</span> │ <span style=\"color: #008080; text-decoration-color: #008080\">    25</span> │ <span style=\"color: #008080; text-decoration-color: #008080\">   7500</span> │ <span style=\"color: #008080; text-decoration-color: #008080\">  18000</span> │ <span style=\"color: #008080; text-decoration-color: #008080\">   77000</span> │ <span style=\"color: #008000; text-decoration-color: #008000\">  █▆▁   </span> │  │\n",
       "│ │ <span style=\"color: #af87ff; text-decoration-color: #af87ff\">sellingprice       </span> │ <span style=\"color: #008080; text-decoration-color: #008080\">   0</span> │ <span style=\"color: #008080; text-decoration-color: #008080\">     0</span> │ <span style=\"color: #008080; text-decoration-color: #008080\">  14000</span> │ <span style=\"color: #008080; text-decoration-color: #008080\">   8800</span> │ <span style=\"color: #008080; text-decoration-color: #008080\">     1</span> │ <span style=\"color: #008080; text-decoration-color: #008080\">   7300</span> │ <span style=\"color: #008080; text-decoration-color: #008080\">  18000</span> │ <span style=\"color: #008080; text-decoration-color: #008080\">   52000</span> │ <span style=\"color: #008000; text-decoration-color: #008000\">  ▆█▄▁  </span> │  │\n",
       "│ │ <span style=\"color: #af87ff; text-decoration-color: #af87ff\">saleyear           </span> │ <span style=\"color: #008080; text-decoration-color: #008080\">   0</span> │ <span style=\"color: #008080; text-decoration-color: #008080\">     0</span> │ <span style=\"color: #008080; text-decoration-color: #008080\">   2000</span> │ <span style=\"color: #008080; text-decoration-color: #008080\">   0.27</span> │ <span style=\"color: #008080; text-decoration-color: #008080\">  2000</span> │ <span style=\"color: #008080; text-decoration-color: #008080\">   2000</span> │ <span style=\"color: #008080; text-decoration-color: #008080\">   2000</span> │ <span style=\"color: #008080; text-decoration-color: #008080\">    2000</span> │ <span style=\"color: #008000; text-decoration-color: #008000\"> ▁    █ </span> │  │\n",
       "│ │ <span style=\"color: #af87ff; text-decoration-color: #af87ff\">age_at_sale        </span> │ <span style=\"color: #008080; text-decoration-color: #008080\">   0</span> │ <span style=\"color: #008080; text-decoration-color: #008080\">     0</span> │ <span style=\"color: #008080; text-decoration-color: #008080\">    4.7</span> │ <span style=\"color: #008080; text-decoration-color: #008080\">    3.8</span> │ <span style=\"color: #008080; text-decoration-color: #008080\">     1</span> │ <span style=\"color: #008080; text-decoration-color: #008080\">      2</span> │ <span style=\"color: #008080; text-decoration-color: #008080\">      7</span> │ <span style=\"color: #008080; text-decoration-color: #008080\">      25</span> │ <span style=\"color: #008000; text-decoration-color: #008000\">  █▂▂   </span> │  │\n",
       "│ │ <span style=\"color: #af87ff; text-decoration-color: #af87ff\">miles_per_year     </span> │ <span style=\"color: #008080; text-decoration-color: #008080\">   0</span> │ <span style=\"color: #008080; text-decoration-color: #008080\">     0</span> │ <span style=\"color: #008080; text-decoration-color: #008080\">  16000</span> │ <span style=\"color: #008080; text-decoration-color: #008080\">   9100</span> │ <span style=\"color: #008080; text-decoration-color: #008080\">     0</span> │ <span style=\"color: #008080; text-decoration-color: #008080\">  10000</span> │ <span style=\"color: #008080; text-decoration-color: #008080\">  20000</span> │ <span style=\"color: #008080; text-decoration-color: #008080\">  220000</span> │ <span style=\"color: #008000; text-decoration-color: #008000\">   █    </span> │  │\n",
       "│ └─────────────────────┴──────┴────────┴─────────┴─────────┴────────┴─────────┴─────────┴──────────┴──────────┘  │\n",
       "│ <span style=\"font-style: italic\">                                                    string                                                    </span>  │\n",
       "│ ┏━━━━━━━━━━━━━━━━━━━━━━━━━━━━┳━━━━━━━━┳━━━━━━━━━━━━┳━━━━━━━━━━━━━━━━━━━━━━━━━━━━━━┳━━━━━━━━━━━━━━━━━━━━━━━━━━┓  │\n",
       "│ ┃<span style=\"font-weight: bold\"> column_name                </span>┃<span style=\"font-weight: bold\"> NA     </span>┃<span style=\"font-weight: bold\"> NA %       </span>┃<span style=\"font-weight: bold\"> words per row                </span>┃<span style=\"font-weight: bold\"> total words              </span>┃  │\n",
       "│ ┡━━━━━━━━━━━━━━━━━━━━━━━━━━━━╇━━━━━━━━╇━━━━━━━━━━━━╇━━━━━━━━━━━━━━━━━━━━━━━━━━━━━━╇━━━━━━━━━━━━━━━━━━━━━━━━━━┩  │\n",
       "│ │ <span style=\"color: #af87ff; text-decoration-color: #af87ff\">make                      </span> │ <span style=\"color: #008080; text-decoration-color: #008080\">     0</span> │ <span style=\"color: #008080; text-decoration-color: #008080\">         0</span> │ <span style=\"color: #008080; text-decoration-color: #008080\">                           1</span> │ <span style=\"color: #008080; text-decoration-color: #008080\">                  520000</span> │  │\n",
       "│ │ <span style=\"color: #af87ff; text-decoration-color: #af87ff\">model                     </span> │ <span style=\"color: #008080; text-decoration-color: #008080\">     0</span> │ <span style=\"color: #008080; text-decoration-color: #008080\">         0</span> │ <span style=\"color: #008080; text-decoration-color: #008080\">                           1</span> │ <span style=\"color: #008080; text-decoration-color: #008080\">                  520000</span> │  │\n",
       "│ │ <span style=\"color: #af87ff; text-decoration-color: #af87ff\">trim                      </span> │ <span style=\"color: #008080; text-decoration-color: #008080\">     0</span> │ <span style=\"color: #008080; text-decoration-color: #008080\">         0</span> │ <span style=\"color: #008080; text-decoration-color: #008080\">                           1</span> │ <span style=\"color: #008080; text-decoration-color: #008080\">                  520000</span> │  │\n",
       "│ │ <span style=\"color: #af87ff; text-decoration-color: #af87ff\">body                      </span> │ <span style=\"color: #008080; text-decoration-color: #008080\">     0</span> │ <span style=\"color: #008080; text-decoration-color: #008080\">         0</span> │ <span style=\"color: #008080; text-decoration-color: #008080\">                           1</span> │ <span style=\"color: #008080; text-decoration-color: #008080\">                  520000</span> │  │\n",
       "│ │ <span style=\"color: #af87ff; text-decoration-color: #af87ff\">transmission              </span> │ <span style=\"color: #008080; text-decoration-color: #008080\">     0</span> │ <span style=\"color: #008080; text-decoration-color: #008080\">         0</span> │ <span style=\"color: #008080; text-decoration-color: #008080\">                           1</span> │ <span style=\"color: #008080; text-decoration-color: #008080\">                  520000</span> │  │\n",
       "│ │ <span style=\"color: #af87ff; text-decoration-color: #af87ff\">vin                       </span> │ <span style=\"color: #008080; text-decoration-color: #008080\">     0</span> │ <span style=\"color: #008080; text-decoration-color: #008080\">         0</span> │ <span style=\"color: #008080; text-decoration-color: #008080\">                           1</span> │ <span style=\"color: #008080; text-decoration-color: #008080\">                  520000</span> │  │\n",
       "│ │ <span style=\"color: #af87ff; text-decoration-color: #af87ff\">state                     </span> │ <span style=\"color: #008080; text-decoration-color: #008080\">     0</span> │ <span style=\"color: #008080; text-decoration-color: #008080\">         0</span> │ <span style=\"color: #008080; text-decoration-color: #008080\">                           1</span> │ <span style=\"color: #008080; text-decoration-color: #008080\">                  520000</span> │  │\n",
       "│ │ <span style=\"color: #af87ff; text-decoration-color: #af87ff\">color                     </span> │ <span style=\"color: #008080; text-decoration-color: #008080\">     0</span> │ <span style=\"color: #008080; text-decoration-color: #008080\">         0</span> │ <span style=\"color: #008080; text-decoration-color: #008080\">                           1</span> │ <span style=\"color: #008080; text-decoration-color: #008080\">                  520000</span> │  │\n",
       "│ │ <span style=\"color: #af87ff; text-decoration-color: #af87ff\">interior                  </span> │ <span style=\"color: #008080; text-decoration-color: #008080\">     0</span> │ <span style=\"color: #008080; text-decoration-color: #008080\">         0</span> │ <span style=\"color: #008080; text-decoration-color: #008080\">                           1</span> │ <span style=\"color: #008080; text-decoration-color: #008080\">                  520000</span> │  │\n",
       "│ │ <span style=\"color: #af87ff; text-decoration-color: #af87ff\">seller                    </span> │ <span style=\"color: #008080; text-decoration-color: #008080\">     0</span> │ <span style=\"color: #008080; text-decoration-color: #008080\">         0</span> │ <span style=\"color: #008080; text-decoration-color: #008080\">                           1</span> │ <span style=\"color: #008080; text-decoration-color: #008080\">                  520000</span> │  │\n",
       "│ │ <span style=\"color: #af87ff; text-decoration-color: #af87ff\">saledate                  </span> │ <span style=\"color: #008080; text-decoration-color: #008080\">     0</span> │ <span style=\"color: #008080; text-decoration-color: #008080\">         0</span> │ <span style=\"color: #008080; text-decoration-color: #008080\">                           1</span> │ <span style=\"color: #008080; text-decoration-color: #008080\">                  520000</span> │  │\n",
       "│ └────────────────────────────┴────────┴────────────┴──────────────────────────────┴──────────────────────────┘  │\n",
       "╰────────────────────────────────────────────────────── End ──────────────────────────────────────────────────────╯\n",
       "</pre>\n"
      ],
      "text/plain": [
       "╭──────────────────────────────────────────────── skimpy summary ─────────────────────────────────────────────────╮\n",
       "│ \u001b[3m         Data Summary         \u001b[0m \u001b[3m      Data Types       \u001b[0m                                                          │\n",
       "│ ┏━━━━━━━━━━━━━━━━━━━┳━━━━━━━━┓ ┏━━━━━━━━━━━━━┳━━━━━━━┓                                                          │\n",
       "│ ┃\u001b[1;36m \u001b[0m\u001b[1;36mdataframe        \u001b[0m\u001b[1;36m \u001b[0m┃\u001b[1;36m \u001b[0m\u001b[1;36mValues\u001b[0m\u001b[1;36m \u001b[0m┃ ┃\u001b[1;36m \u001b[0m\u001b[1;36mColumn Type\u001b[0m\u001b[1;36m \u001b[0m┃\u001b[1;36m \u001b[0m\u001b[1;36mCount\u001b[0m\u001b[1;36m \u001b[0m┃                                                          │\n",
       "│ ┡━━━━━━━━━━━━━━━━━━━╇━━━━━━━━┩ ┡━━━━━━━━━━━━━╇━━━━━━━┩                                                          │\n",
       "│ │ Number of rows    │ 513877 │ │ string      │ 11    │                                                          │\n",
       "│ │ Number of columns │ 19     │ │ int64       │ 7     │                                                          │\n",
       "│ └───────────────────┴────────┘ │ float64     │ 1     │                                                          │\n",
       "│                                └─────────────┴───────┘                                                          │\n",
       "│ \u001b[3m                                                    number                                                    \u001b[0m  │\n",
       "│ ┏━━━━━━━━━━━━━━━━━━━━━┳━━━━━━┳━━━━━━━━┳━━━━━━━━━┳━━━━━━━━━┳━━━━━━━━┳━━━━━━━━━┳━━━━━━━━━┳━━━━━━━━━━┳━━━━━━━━━━┓  │\n",
       "│ ┃\u001b[1m \u001b[0m\u001b[1mcolumn_name        \u001b[0m\u001b[1m \u001b[0m┃\u001b[1m \u001b[0m\u001b[1mNA  \u001b[0m\u001b[1m \u001b[0m┃\u001b[1m \u001b[0m\u001b[1mNA %  \u001b[0m\u001b[1m \u001b[0m┃\u001b[1m \u001b[0m\u001b[1mmean   \u001b[0m\u001b[1m \u001b[0m┃\u001b[1m \u001b[0m\u001b[1msd     \u001b[0m\u001b[1m \u001b[0m┃\u001b[1m \u001b[0m\u001b[1mp0    \u001b[0m\u001b[1m \u001b[0m┃\u001b[1m \u001b[0m\u001b[1mp25    \u001b[0m\u001b[1m \u001b[0m┃\u001b[1m \u001b[0m\u001b[1mp75    \u001b[0m\u001b[1m \u001b[0m┃\u001b[1m \u001b[0m\u001b[1mp100    \u001b[0m\u001b[1m \u001b[0m┃\u001b[1m \u001b[0m\u001b[1mhist    \u001b[0m\u001b[1m \u001b[0m┃  │\n",
       "│ ┡━━━━━━━━━━━━━━━━━━━━━╇━━━━━━╇━━━━━━━━╇━━━━━━━━━╇━━━━━━━━━╇━━━━━━━━╇━━━━━━━━━╇━━━━━━━━━╇━━━━━━━━━━╇━━━━━━━━━━┩  │\n",
       "│ │ \u001b[38;5;141myear               \u001b[0m │ \u001b[36m   0\u001b[0m │ \u001b[36m     0\u001b[0m │ \u001b[36m   2000\u001b[0m │ \u001b[36m    3.8\u001b[0m │ \u001b[36m  2000\u001b[0m │ \u001b[36m   2000\u001b[0m │ \u001b[36m   2000\u001b[0m │ \u001b[36m    2000\u001b[0m │ \u001b[32m   ▁▂▂█ \u001b[0m │  │\n",
       "│ │ \u001b[38;5;141mcondition          \u001b[0m │ \u001b[36m   0\u001b[0m │ \u001b[36m     0\u001b[0m │ \u001b[36m    3.4\u001b[0m │ \u001b[36m   0.95\u001b[0m │ \u001b[36m     1\u001b[0m │ \u001b[36m    2.7\u001b[0m │ \u001b[36m    4.2\u001b[0m │ \u001b[36m       5\u001b[0m │ \u001b[32m  ▄▄▅█▅ \u001b[0m │  │\n",
       "│ │ \u001b[38;5;141modometer           \u001b[0m │ \u001b[36m   0\u001b[0m │ \u001b[36m     0\u001b[0m │ \u001b[36m  66000\u001b[0m │ \u001b[36m  51000\u001b[0m │ \u001b[36m     1\u001b[0m │ \u001b[36m  28000\u001b[0m │ \u001b[36m  96000\u001b[0m │ \u001b[36m  500000\u001b[0m │ \u001b[32m  █▃▁   \u001b[0m │  │\n",
       "│ │ \u001b[38;5;141mmmr                \u001b[0m │ \u001b[36m   0\u001b[0m │ \u001b[36m     0\u001b[0m │ \u001b[36m  14000\u001b[0m │ \u001b[36m   8700\u001b[0m │ \u001b[36m    25\u001b[0m │ \u001b[36m   7500\u001b[0m │ \u001b[36m  18000\u001b[0m │ \u001b[36m   77000\u001b[0m │ \u001b[32m  █▆▁   \u001b[0m │  │\n",
       "│ │ \u001b[38;5;141msellingprice       \u001b[0m │ \u001b[36m   0\u001b[0m │ \u001b[36m     0\u001b[0m │ \u001b[36m  14000\u001b[0m │ \u001b[36m   8800\u001b[0m │ \u001b[36m     1\u001b[0m │ \u001b[36m   7300\u001b[0m │ \u001b[36m  18000\u001b[0m │ \u001b[36m   52000\u001b[0m │ \u001b[32m  ▆█▄▁  \u001b[0m │  │\n",
       "│ │ \u001b[38;5;141msaleyear           \u001b[0m │ \u001b[36m   0\u001b[0m │ \u001b[36m     0\u001b[0m │ \u001b[36m   2000\u001b[0m │ \u001b[36m   0.27\u001b[0m │ \u001b[36m  2000\u001b[0m │ \u001b[36m   2000\u001b[0m │ \u001b[36m   2000\u001b[0m │ \u001b[36m    2000\u001b[0m │ \u001b[32m ▁    █ \u001b[0m │  │\n",
       "│ │ \u001b[38;5;141mage_at_sale        \u001b[0m │ \u001b[36m   0\u001b[0m │ \u001b[36m     0\u001b[0m │ \u001b[36m    4.7\u001b[0m │ \u001b[36m    3.8\u001b[0m │ \u001b[36m     1\u001b[0m │ \u001b[36m      2\u001b[0m │ \u001b[36m      7\u001b[0m │ \u001b[36m      25\u001b[0m │ \u001b[32m  █▂▂   \u001b[0m │  │\n",
       "│ │ \u001b[38;5;141mmiles_per_year     \u001b[0m │ \u001b[36m   0\u001b[0m │ \u001b[36m     0\u001b[0m │ \u001b[36m  16000\u001b[0m │ \u001b[36m   9100\u001b[0m │ \u001b[36m     0\u001b[0m │ \u001b[36m  10000\u001b[0m │ \u001b[36m  20000\u001b[0m │ \u001b[36m  220000\u001b[0m │ \u001b[32m   █    \u001b[0m │  │\n",
       "│ └─────────────────────┴──────┴────────┴─────────┴─────────┴────────┴─────────┴─────────┴──────────┴──────────┘  │\n",
       "│ \u001b[3m                                                    string                                                    \u001b[0m  │\n",
       "│ ┏━━━━━━━━━━━━━━━━━━━━━━━━━━━━┳━━━━━━━━┳━━━━━━━━━━━━┳━━━━━━━━━━━━━━━━━━━━━━━━━━━━━━┳━━━━━━━━━━━━━━━━━━━━━━━━━━┓  │\n",
       "│ ┃\u001b[1m \u001b[0m\u001b[1mcolumn_name               \u001b[0m\u001b[1m \u001b[0m┃\u001b[1m \u001b[0m\u001b[1mNA    \u001b[0m\u001b[1m \u001b[0m┃\u001b[1m \u001b[0m\u001b[1mNA %      \u001b[0m\u001b[1m \u001b[0m┃\u001b[1m \u001b[0m\u001b[1mwords per row               \u001b[0m\u001b[1m \u001b[0m┃\u001b[1m \u001b[0m\u001b[1mtotal words             \u001b[0m\u001b[1m \u001b[0m┃  │\n",
       "│ ┡━━━━━━━━━━━━━━━━━━━━━━━━━━━━╇━━━━━━━━╇━━━━━━━━━━━━╇━━━━━━━━━━━━━━━━━━━━━━━━━━━━━━╇━━━━━━━━━━━━━━━━━━━━━━━━━━┩  │\n",
       "│ │ \u001b[38;5;141mmake                      \u001b[0m │ \u001b[36m     0\u001b[0m │ \u001b[36m         0\u001b[0m │ \u001b[36m                           1\u001b[0m │ \u001b[36m                  520000\u001b[0m │  │\n",
       "│ │ \u001b[38;5;141mmodel                     \u001b[0m │ \u001b[36m     0\u001b[0m │ \u001b[36m         0\u001b[0m │ \u001b[36m                           1\u001b[0m │ \u001b[36m                  520000\u001b[0m │  │\n",
       "│ │ \u001b[38;5;141mtrim                      \u001b[0m │ \u001b[36m     0\u001b[0m │ \u001b[36m         0\u001b[0m │ \u001b[36m                           1\u001b[0m │ \u001b[36m                  520000\u001b[0m │  │\n",
       "│ │ \u001b[38;5;141mbody                      \u001b[0m │ \u001b[36m     0\u001b[0m │ \u001b[36m         0\u001b[0m │ \u001b[36m                           1\u001b[0m │ \u001b[36m                  520000\u001b[0m │  │\n",
       "│ │ \u001b[38;5;141mtransmission              \u001b[0m │ \u001b[36m     0\u001b[0m │ \u001b[36m         0\u001b[0m │ \u001b[36m                           1\u001b[0m │ \u001b[36m                  520000\u001b[0m │  │\n",
       "│ │ \u001b[38;5;141mvin                       \u001b[0m │ \u001b[36m     0\u001b[0m │ \u001b[36m         0\u001b[0m │ \u001b[36m                           1\u001b[0m │ \u001b[36m                  520000\u001b[0m │  │\n",
       "│ │ \u001b[38;5;141mstate                     \u001b[0m │ \u001b[36m     0\u001b[0m │ \u001b[36m         0\u001b[0m │ \u001b[36m                           1\u001b[0m │ \u001b[36m                  520000\u001b[0m │  │\n",
       "│ │ \u001b[38;5;141mcolor                     \u001b[0m │ \u001b[36m     0\u001b[0m │ \u001b[36m         0\u001b[0m │ \u001b[36m                           1\u001b[0m │ \u001b[36m                  520000\u001b[0m │  │\n",
       "│ │ \u001b[38;5;141minterior                  \u001b[0m │ \u001b[36m     0\u001b[0m │ \u001b[36m         0\u001b[0m │ \u001b[36m                           1\u001b[0m │ \u001b[36m                  520000\u001b[0m │  │\n",
       "│ │ \u001b[38;5;141mseller                    \u001b[0m │ \u001b[36m     0\u001b[0m │ \u001b[36m         0\u001b[0m │ \u001b[36m                           1\u001b[0m │ \u001b[36m                  520000\u001b[0m │  │\n",
       "│ │ \u001b[38;5;141msaledate                  \u001b[0m │ \u001b[36m     0\u001b[0m │ \u001b[36m         0\u001b[0m │ \u001b[36m                           1\u001b[0m │ \u001b[36m                  520000\u001b[0m │  │\n",
       "│ └────────────────────────────┴────────┴────────────┴──────────────────────────────┴──────────────────────────┘  │\n",
       "╰────────────────────────────────────────────────────── End ──────────────────────────────────────────────────────╯\n"
      ]
     },
     "metadata": {},
     "output_type": "display_data"
    }
   ],
   "source": [
    "skim(df)"
   ]
  },
  {
   "cell_type": "code",
   "execution_count": 6,
   "id": "d3b3fc14",
   "metadata": {},
   "outputs": [
    {
     "data": {
      "image/png": "[encoded data removed]",
      "text/plain": [
       "<Figure size 1728x864 with 1 Axes>"
      ]
     },
     "metadata": {},
     "output_type": "display_data"
    }
   ],
   "source": [
    "viz.plot_dist(df)"
   ]
  },
  {
   "cell_type": "code",
   "execution_count": 7,
   "id": "ae8d031c",
   "metadata": {},
   "outputs": [
    {
     "data": {
      "image/png": "[encoded data removed]",
      "text/plain": [
       "<Figure size 864x576 with 2 Axes>"
      ]
     },
     "metadata": {},
     "output_type": "display_data"
    }
   ],
   "source": [
    "viz.corr_plot(train)"
   ]
  },
  {
   "cell_type": "code",
   "execution_count": 8,
   "id": "03bdddb6",
   "metadata": {},
   "outputs": [
    {
     "data": {
      "text/plain": [
       "Base                 30867\n",
       "SE                   25281\n",
       "LX                   11942\n",
       "Limited              10357\n",
       "LT                    9704\n",
       "                     ...  \n",
       "25th Anniversary         1\n",
       "Ribelle                  1\n",
       "SS/T                     1\n",
       "Black Tie Edition        1\n",
       "SLE2 XFE                 1\n",
       "Name: trim, Length: 1425, dtype: int64"
      ]
     },
     "execution_count": 8,
     "metadata": {},
     "output_type": "execute_result"
    }
   ],
   "source": [
    "train.trim.value_counts()"
   ]
  },
  {
   "cell_type": "code",
   "execution_count": 9,
   "id": "55ab2a11",
   "metadata": {},
   "outputs": [
    {
     "name": "stdout",
     "output_type": "stream",
     "text": [
      "<class 'pandas.core.frame.DataFrame'>\n",
      "Int64Index: 308325 entries, 336904 to 453133\n",
      "Data columns (total 19 columns):\n",
      " #   Column          Non-Null Count   Dtype  \n",
      "---  ------          --------------   -----  \n",
      " 0   year            308325 non-null  int64  \n",
      " 1   make            308325 non-null  object \n",
      " 2   model           308325 non-null  object \n",
      " 3   trim            308325 non-null  object \n",
      " 4   body            308325 non-null  object \n",
      " 5   transmission    308325 non-null  object \n",
      " 6   vin             308325 non-null  object \n",
      " 7   state           308325 non-null  object \n",
      " 8   condition       308325 non-null  float64\n",
      " 9   odometer        308325 non-null  int64  \n",
      " 10  color           308325 non-null  object \n",
      " 11  interior        308325 non-null  object \n",
      " 12  seller          308325 non-null  object \n",
      " 13  mmr             308325 non-null  int64  \n",
      " 14  sellingprice    308325 non-null  int64  \n",
      " 15  saledate        308325 non-null  object \n",
      " 16  saleyear        308325 non-null  int64  \n",
      " 17  age_at_sale     308325 non-null  int64  \n",
      " 18  miles_per_year  308325 non-null  int64  \n",
      "dtypes: float64(1), int64(7), object(11)\n",
      "memory usage: 47.0+ MB\n"
     ]
    }
   ],
   "source": []
  },
  {
   "cell_type": "code",
   "execution_count": 11,
   "id": "4cba5acf",
   "metadata": {},
   "outputs": [],
   "source": []
  },
  {
   "cell_type": "code",
   "execution_count": 8,
   "id": "e5c6b75a",
   "metadata": {},
   "outputs": [],
   "source": [
    "cats=['trim', 'body', 'make', 'transmission', 'state', 'model']\n",
    "te = TargetEncoder()\n",
    "t_values = te.fit_transform(X = train[cats], y = train.sellingprice).add_prefix('enc_')\n",
    "train = pd.concat([train, t_values], axis = 1)\n",
    "\n",
    "v_values = te.transform(X = validate[cats], y = validate.sellingprice).add_prefix('enc_')\n",
    "validate = pd.concat([validate, v_values], axis = 1)\n",
    "\n",
    "test_values = te.transform(X = test[cats], y = test.sellingprice).add_prefix('enc_')\n",
    "test = pd.concat([test, test_values], axis = 1)"
   ]
  },
  {
   "cell_type": "code",
   "execution_count": 9,
   "id": "28d8589e",
   "metadata": {},
   "outputs": [
    {
     "data": {
      "text/html": [
       "<div>\n",
       "<style scoped>\n",
       "    .dataframe tbody tr th:only-of-type {\n",
       "        vertical-align: middle;\n",
       "    }\n",
       "\n",
       "    .dataframe tbody tr th {\n",
       "        vertical-align: top;\n",
       "    }\n",
       "\n",
       "    .dataframe thead th {\n",
       "        text-align: right;\n",
       "    }\n",
       "</style>\n",
       "<table border=\"1\" class=\"dataframe\">\n",
       "  <thead>\n",
       "    <tr style=\"text-align: right;\">\n",
       "      <th></th>\n",
       "      <th>year</th>\n",
       "      <th>make</th>\n",
       "      <th>model</th>\n",
       "      <th>trim</th>\n",
       "      <th>body</th>\n",
       "      <th>transmission</th>\n",
       "      <th>vin</th>\n",
       "      <th>state</th>\n",
       "      <th>condition</th>\n",
       "      <th>odometer</th>\n",
       "      <th>...</th>\n",
       "      <th>saledate</th>\n",
       "      <th>saleyear</th>\n",
       "      <th>age_at_sale</th>\n",
       "      <th>miles_per_year</th>\n",
       "      <th>enc_trim</th>\n",
       "      <th>enc_body</th>\n",
       "      <th>enc_make</th>\n",
       "      <th>enc_transmission</th>\n",
       "      <th>enc_state</th>\n",
       "      <th>enc_model</th>\n",
       "    </tr>\n",
       "  </thead>\n",
       "  <tbody>\n",
       "    <tr>\n",
       "      <th>336904</th>\n",
       "      <td>2011</td>\n",
       "      <td>Mercedes-Benz</td>\n",
       "      <td>C-Class</td>\n",
       "      <td>C300 Luxury 4MATIC</td>\n",
       "      <td>sedan</td>\n",
       "      <td>automatic</td>\n",
       "      <td>wddgf8bb8br160819</td>\n",
       "      <td>PA</td>\n",
       "      <td>3.8</td>\n",
       "      <td>45791</td>\n",
       "      <td>...</td>\n",
       "      <td>Fri Feb 20 2015 01:00:00 GMT-0800 (PST)</td>\n",
       "      <td>2015</td>\n",
       "      <td>4</td>\n",
       "      <td>11447</td>\n",
       "      <td>19532.272727</td>\n",
       "      <td>11889.400451</td>\n",
       "      <td>20292.590389</td>\n",
       "      <td>13501.544463</td>\n",
       "      <td>15665.373120</td>\n",
       "      <td>17809.305141</td>\n",
       "    </tr>\n",
       "    <tr>\n",
       "      <th>378530</th>\n",
       "      <td>2007</td>\n",
       "      <td>Saturn</td>\n",
       "      <td>VUE</td>\n",
       "      <td>Base</td>\n",
       "      <td>SUV</td>\n",
       "      <td>manual</td>\n",
       "      <td>5gzcz23d27s843143</td>\n",
       "      <td>TX</td>\n",
       "      <td>2.6</td>\n",
       "      <td>107186</td>\n",
       "      <td>...</td>\n",
       "      <td>Wed Mar 04 2015 02:30:00 GMT-0800 (PST)</td>\n",
       "      <td>2015</td>\n",
       "      <td>8</td>\n",
       "      <td>13398</td>\n",
       "      <td>13388.910195</td>\n",
       "      <td>15928.833354</td>\n",
       "      <td>3346.361880</td>\n",
       "      <td>10749.221372</td>\n",
       "      <td>13157.058296</td>\n",
       "      <td>3308.350305</td>\n",
       "    </tr>\n",
       "    <tr>\n",
       "      <th>429647</th>\n",
       "      <td>2013</td>\n",
       "      <td>Chrysler</td>\n",
       "      <td>200</td>\n",
       "      <td>Limited</td>\n",
       "      <td>sedan</td>\n",
       "      <td>automatic</td>\n",
       "      <td>1c3ccbcg9dn655571</td>\n",
       "      <td>MI</td>\n",
       "      <td>4.2</td>\n",
       "      <td>19242</td>\n",
       "      <td>...</td>\n",
       "      <td>Thu May 21 2015 02:30:00 GMT-0700 (PDT)</td>\n",
       "      <td>2015</td>\n",
       "      <td>2</td>\n",
       "      <td>9621</td>\n",
       "      <td>16810.391909</td>\n",
       "      <td>11889.400451</td>\n",
       "      <td>11407.611934</td>\n",
       "      <td>13501.544463</td>\n",
       "      <td>15077.875355</td>\n",
       "      <td>11217.561102</td>\n",
       "    </tr>\n",
       "    <tr>\n",
       "      <th>304344</th>\n",
       "      <td>2005</td>\n",
       "      <td>Chevrolet</td>\n",
       "      <td>Cobalt</td>\n",
       "      <td>Base</td>\n",
       "      <td>coupe</td>\n",
       "      <td>automatic</td>\n",
       "      <td>1g1ak12f957574027</td>\n",
       "      <td>PA</td>\n",
       "      <td>1.9</td>\n",
       "      <td>86046</td>\n",
       "      <td>...</td>\n",
       "      <td>Fri Feb 13 2015 01:00:00 GMT-0800 (PST)</td>\n",
       "      <td>2015</td>\n",
       "      <td>10</td>\n",
       "      <td>8604</td>\n",
       "      <td>13388.910195</td>\n",
       "      <td>14904.445245</td>\n",
       "      <td>11857.097298</td>\n",
       "      <td>13501.544463</td>\n",
       "      <td>15665.373120</td>\n",
       "      <td>3427.085506</td>\n",
       "    </tr>\n",
       "    <tr>\n",
       "      <th>61836</th>\n",
       "      <td>2013</td>\n",
       "      <td>Lexus</td>\n",
       "      <td>GS 350</td>\n",
       "      <td>Base</td>\n",
       "      <td>sedan</td>\n",
       "      <td>automatic</td>\n",
       "      <td>jthbe1bl5d5024230</td>\n",
       "      <td>FL</td>\n",
       "      <td>4.8</td>\n",
       "      <td>13668</td>\n",
       "      <td>...</td>\n",
       "      <td>Tue Dec 30 2014 09:30:00 GMT-0800 (PST)</td>\n",
       "      <td>2014</td>\n",
       "      <td>1</td>\n",
       "      <td>13668</td>\n",
       "      <td>13388.910195</td>\n",
       "      <td>11889.400451</td>\n",
       "      <td>20066.164373</td>\n",
       "      <td>13501.544463</td>\n",
       "      <td>13790.509741</td>\n",
       "      <td>28226.238739</td>\n",
       "    </tr>\n",
       "    <tr>\n",
       "      <th>...</th>\n",
       "      <td>...</td>\n",
       "      <td>...</td>\n",
       "      <td>...</td>\n",
       "      <td>...</td>\n",
       "      <td>...</td>\n",
       "      <td>...</td>\n",
       "      <td>...</td>\n",
       "      <td>...</td>\n",
       "      <td>...</td>\n",
       "      <td>...</td>\n",
       "      <td>...</td>\n",
       "      <td>...</td>\n",
       "      <td>...</td>\n",
       "      <td>...</td>\n",
       "      <td>...</td>\n",
       "      <td>...</td>\n",
       "      <td>...</td>\n",
       "      <td>...</td>\n",
       "      <td>...</td>\n",
       "      <td>...</td>\n",
       "      <td>...</td>\n",
       "    </tr>\n",
       "    <tr>\n",
       "      <th>322784</th>\n",
       "      <td>2013</td>\n",
       "      <td>Ford</td>\n",
       "      <td>F-150</td>\n",
       "      <td>STX</td>\n",
       "      <td>truck</td>\n",
       "      <td>automatic</td>\n",
       "      <td>1ftex1cm8dkf44584</td>\n",
       "      <td>MI</td>\n",
       "      <td>3.3</td>\n",
       "      <td>14932</td>\n",
       "      <td>...</td>\n",
       "      <td>Thu Feb 26 2015 01:30:00 GMT-0800 (PST)</td>\n",
       "      <td>2015</td>\n",
       "      <td>2</td>\n",
       "      <td>7466</td>\n",
       "      <td>15396.805112</td>\n",
       "      <td>17910.502881</td>\n",
       "      <td>14598.024132</td>\n",
       "      <td>13501.544463</td>\n",
       "      <td>15077.875355</td>\n",
       "      <td>19044.915488</td>\n",
       "    </tr>\n",
       "    <tr>\n",
       "      <th>367772</th>\n",
       "      <td>2005</td>\n",
       "      <td>Ford</td>\n",
       "      <td>Econoline Cargo</td>\n",
       "      <td>E-250</td>\n",
       "      <td>van</td>\n",
       "      <td>unknown_transmission</td>\n",
       "      <td>1ftne24w85ha57041</td>\n",
       "      <td>NV</td>\n",
       "      <td>2.0</td>\n",
       "      <td>185557</td>\n",
       "      <td>...</td>\n",
       "      <td>Thu Feb 26 2015 03:00:00 GMT-0800 (PST)</td>\n",
       "      <td>2015</td>\n",
       "      <td>10</td>\n",
       "      <td>18555</td>\n",
       "      <td>16040.920635</td>\n",
       "      <td>12509.516587</td>\n",
       "      <td>14598.024132</td>\n",
       "      <td>14781.753259</td>\n",
       "      <td>15026.781856</td>\n",
       "      <td>4692.857143</td>\n",
       "    </tr>\n",
       "    <tr>\n",
       "      <th>174249</th>\n",
       "      <td>2013</td>\n",
       "      <td>Cadillac</td>\n",
       "      <td>ATS</td>\n",
       "      <td>Luxury</td>\n",
       "      <td>sedan</td>\n",
       "      <td>unknown_transmission</td>\n",
       "      <td>1g6ab5raxd0152822</td>\n",
       "      <td>PA</td>\n",
       "      <td>3.9</td>\n",
       "      <td>33443</td>\n",
       "      <td>...</td>\n",
       "      <td>Fri Feb 13 2015 01:00:00 GMT-0800 (PST)</td>\n",
       "      <td>2015</td>\n",
       "      <td>2</td>\n",
       "      <td>16721</td>\n",
       "      <td>20961.228346</td>\n",
       "      <td>11889.400451</td>\n",
       "      <td>15126.485392</td>\n",
       "      <td>14781.753259</td>\n",
       "      <td>15665.373120</td>\n",
       "      <td>20514.119658</td>\n",
       "    </tr>\n",
       "    <tr>\n",
       "      <th>338057</th>\n",
       "      <td>2014</td>\n",
       "      <td>Chevrolet</td>\n",
       "      <td>Camaro</td>\n",
       "      <td>LT</td>\n",
       "      <td>coupe</td>\n",
       "      <td>unknown_transmission</td>\n",
       "      <td>2g1fc1e35e9185520</td>\n",
       "      <td>PA</td>\n",
       "      <td>5.0</td>\n",
       "      <td>4793</td>\n",
       "      <td>...</td>\n",
       "      <td>Fri Feb 20 2015 09:30:00 GMT-0800 (PST)</td>\n",
       "      <td>2015</td>\n",
       "      <td>1</td>\n",
       "      <td>4793</td>\n",
       "      <td>13826.873969</td>\n",
       "      <td>14904.445245</td>\n",
       "      <td>11857.097298</td>\n",
       "      <td>14781.753259</td>\n",
       "      <td>15665.373120</td>\n",
       "      <td>19271.462037</td>\n",
       "    </tr>\n",
       "    <tr>\n",
       "      <th>453133</th>\n",
       "      <td>2012</td>\n",
       "      <td>Chevrolet</td>\n",
       "      <td>Cruze</td>\n",
       "      <td>1LT</td>\n",
       "      <td>sedan</td>\n",
       "      <td>automatic</td>\n",
       "      <td>1g1pf5sc6c7253877</td>\n",
       "      <td>WI</td>\n",
       "      <td>4.8</td>\n",
       "      <td>31108</td>\n",
       "      <td>...</td>\n",
       "      <td>Wed May 27 2015 03:00:00 GMT-0700 (PDT)</td>\n",
       "      <td>2015</td>\n",
       "      <td>3</td>\n",
       "      <td>10369</td>\n",
       "      <td>10693.812799</td>\n",
       "      <td>11889.400451</td>\n",
       "      <td>11857.097298</td>\n",
       "      <td>13501.544463</td>\n",
       "      <td>13934.675836</td>\n",
       "      <td>11171.266703</td>\n",
       "    </tr>\n",
       "  </tbody>\n",
       "</table>\n",
       "<p>308325 rows × 25 columns</p>\n",
       "</div>"
      ],
      "text/plain": [
       "        year           make            model                trim   body  \\\n",
       "336904  2011  Mercedes-Benz          C-Class  C300 Luxury 4MATIC  sedan   \n",
       "378530  2007         Saturn              VUE                Base    SUV   \n",
       "429647  2013       Chrysler              200             Limited  sedan   \n",
       "304344  2005      Chevrolet           Cobalt                Base  coupe   \n",
       "61836   2013          Lexus           GS 350                Base  sedan   \n",
       "...      ...            ...              ...                 ...    ...   \n",
       "322784  2013           Ford            F-150                 STX  truck   \n",
       "367772  2005           Ford  Econoline Cargo               E-250    van   \n",
       "174249  2013       Cadillac              ATS              Luxury  sedan   \n",
       "338057  2014      Chevrolet           Camaro                  LT  coupe   \n",
       "453133  2012      Chevrolet            Cruze                 1LT  sedan   \n",
       "\n",
       "                transmission                vin state  condition  odometer  \\\n",
       "336904             automatic  wddgf8bb8br160819    PA        3.8     45791   \n",
       "378530                manual  5gzcz23d27s843143    TX        2.6    107186   \n",
       "429647             automatic  1c3ccbcg9dn655571    MI        4.2     19242   \n",
       "304344             automatic  1g1ak12f957574027    PA        1.9     86046   \n",
       "61836              automatic  jthbe1bl5d5024230    FL        4.8     13668   \n",
       "...                      ...                ...   ...        ...       ...   \n",
       "322784             automatic  1ftex1cm8dkf44584    MI        3.3     14932   \n",
       "367772  unknown_transmission  1ftne24w85ha57041    NV        2.0    185557   \n",
       "174249  unknown_transmission  1g6ab5raxd0152822    PA        3.9     33443   \n",
       "338057  unknown_transmission  2g1fc1e35e9185520    PA        5.0      4793   \n",
       "453133             automatic  1g1pf5sc6c7253877    WI        4.8     31108   \n",
       "\n",
       "        ...                                 saledate saleyear age_at_sale  \\\n",
       "336904  ...  Fri Feb 20 2015 01:00:00 GMT-0800 (PST)     2015           4   \n",
       "378530  ...  Wed Mar 04 2015 02:30:00 GMT-0800 (PST)     2015           8   \n",
       "429647  ...  Thu May 21 2015 02:30:00 GMT-0700 (PDT)     2015           2   \n",
       "304344  ...  Fri Feb 13 2015 01:00:00 GMT-0800 (PST)     2015          10   \n",
       "61836   ...  Tue Dec 30 2014 09:30:00 GMT-0800 (PST)     2014           1   \n",
       "...     ...                                      ...      ...         ...   \n",
       "322784  ...  Thu Feb 26 2015 01:30:00 GMT-0800 (PST)     2015           2   \n",
       "367772  ...  Thu Feb 26 2015 03:00:00 GMT-0800 (PST)     2015          10   \n",
       "174249  ...  Fri Feb 13 2015 01:00:00 GMT-0800 (PST)     2015           2   \n",
       "338057  ...  Fri Feb 20 2015 09:30:00 GMT-0800 (PST)     2015           1   \n",
       "453133  ...  Wed May 27 2015 03:00:00 GMT-0700 (PDT)     2015           3   \n",
       "\n",
       "        miles_per_year      enc_trim      enc_body      enc_make  \\\n",
       "336904           11447  19532.272727  11889.400451  20292.590389   \n",
       "378530           13398  13388.910195  15928.833354   3346.361880   \n",
       "429647            9621  16810.391909  11889.400451  11407.611934   \n",
       "304344            8604  13388.910195  14904.445245  11857.097298   \n",
       "61836            13668  13388.910195  11889.400451  20066.164373   \n",
       "...                ...           ...           ...           ...   \n",
       "322784            7466  15396.805112  17910.502881  14598.024132   \n",
       "367772           18555  16040.920635  12509.516587  14598.024132   \n",
       "174249           16721  20961.228346  11889.400451  15126.485392   \n",
       "338057            4793  13826.873969  14904.445245  11857.097298   \n",
       "453133           10369  10693.812799  11889.400451  11857.097298   \n",
       "\n",
       "        enc_transmission     enc_state     enc_model  \n",
       "336904      13501.544463  15665.373120  17809.305141  \n",
       "378530      10749.221372  13157.058296   3308.350305  \n",
       "429647      13501.544463  15077.875355  11217.561102  \n",
       "304344      13501.544463  15665.373120   3427.085506  \n",
       "61836       13501.544463  13790.509741  28226.238739  \n",
       "...                  ...           ...           ...  \n",
       "322784      13501.544463  15077.875355  19044.915488  \n",
       "367772      14781.753259  15026.781856   4692.857143  \n",
       "174249      14781.753259  15665.373120  20514.119658  \n",
       "338057      14781.753259  15665.373120  19271.462037  \n",
       "453133      13501.544463  13934.675836  11171.266703  \n",
       "\n",
       "[308325 rows x 25 columns]"
      ]
     },
     "execution_count": 9,
     "metadata": {},
     "output_type": "execute_result"
    }
   ],
   "source": [
    "train"
   ]
  },
  {
   "cell_type": "code",
   "execution_count": null,
   "id": "abb259ef",
   "metadata": {},
   "outputs": [],
   "source": []
  },
  {
   "cell_type": "code",
   "execution_count": 8,
   "id": "4026a3c9",
   "metadata": {
    "scrolled": true
   },
   "outputs": [
    {
     "ename": "NameError",
     "evalue": "name 'correlation_test' is not defined",
     "output_type": "error",
     "traceback": [
      "\u001b[0;31m---------------------------------------------------------------------------\u001b[0m",
      "\u001b[0;31mNameError\u001b[0m                                 Traceback (most recent call last)",
      "Input \u001b[0;32mIn [8]\u001b[0m, in \u001b[0;36m<cell line: 1>\u001b[0;34m()\u001b[0m\n\u001b[0;32m----> 1\u001b[0m \u001b[43mcorrelation_test\u001b[49m(train, \u001b[38;5;124m'\u001b[39m\u001b[38;5;124msellingprice\u001b[39m\u001b[38;5;124m'\u001b[39m, \u001b[38;5;124m'\u001b[39m\u001b[38;5;124mmiles_per_year\u001b[39m\u001b[38;5;124m'\u001b[39m)\n",
      "\u001b[0;31mNameError\u001b[0m: name 'correlation_test' is not defined"
     ]
    }
   ],
   "source": [
    "correlation_test(train, 'sellingprice', 'miles_per_year')"
   ]
  },
  {
   "cell_type": "code",
   "execution_count": null,
   "id": "b46f725a",
   "metadata": {},
   "outputs": [],
   "source": []
  },
  {
   "cell_type": "code",
   "execution_count": null,
   "id": "3c1aa7be",
   "metadata": {},
   "outputs": [],
   "source": [
    "def correlation_test(df, f1, f2):\n",
    "    r, p = stats.pearsonr(df[f1], df[f2])\n",
    "    if p < .05:\n",
    "        print(f'The null hypothesis is rejected!  {f1} is linearly correlated to {f2}')\n",
    "    else:\n",
    "        print(f'The null hypothesis is confirmed! {f1} is not linearly correlated to {f2}')\n",
    "    print('R =',round(r,2))\n",
    "    "
   ]
  },
  {
   "cell_type": "code",
   "execution_count": null,
   "id": "4ccf5361",
   "metadata": {},
   "outputs": [],
   "source": [
    "correlation_test(train, 'odometer', 'age_at_sale')"
   ]
  },
  {
   "cell_type": "code",
   "execution_count": null,
   "id": "458be0c7",
   "metadata": {},
   "outputs": [],
   "source": [
    "def compare_means(df,discrete_col,continuous_col):\n",
    "    group = df.groupby([discrete_col],as_index=False)[continuous_col].mean().reset_index(drop=True)\n",
    "    plt.figure(figsize=(10,5))\n",
    "    sns.barplot(x=group[discrete_col],y=group[continuous_col],palette='Reds')\n",
    "    plt.ylabel('mean ' + continuous_col)\n",
    "    plt.show()"
   ]
  },
  {
   "cell_type": "code",
   "execution_count": null,
   "id": "550a998b",
   "metadata": {},
   "outputs": [],
   "source": [
    "compare_means(train, 'make_cat', 'sellingprice')"
   ]
  },
  {
   "cell_type": "code",
   "execution_count": null,
   "id": "b45b4ec0",
   "metadata": {},
   "outputs": [],
   "source": [
    "for cat in ['make_cat', 'state_cat', 'color_cat', 'interior_cat', 'body', 'transmission', 'trim_cat']:\n",
    "    dummies = pd.get_dummies(df[cat], drop_first=True)\n",
    "    df = pd.concat([df, dummies], axis=1)"
   ]
  },
  {
   "cell_type": "code",
   "execution_count": null,
   "id": "b00c8519",
   "metadata": {},
   "outputs": [],
   "source": [
    "df.columns.tolist()"
   ]
  },
  {
   "cell_type": "code",
   "execution_count": null,
   "id": "951c9455",
   "metadata": {},
   "outputs": [],
   "source": [
    "features = ['year',\n",
    " \n",
    " 'condition',\n",
    " 'odometer',\n",
    " 'mmr',\n",
    " 'sellingprice',\n",
    " 'age_at_sale',\n",
    " 'miles_per_year',\n",
    " 'high_mid_make',\n",
    " 'low_mid_make',\n",
    " 'luxury_make',\n",
    " 'high_state',\n",
    " 'mid_state',\n",
    " 'low_color',\n",
    " 'mid_color',\n",
    " 'low_interior',\n",
    " 'mid_interior',\n",
    " 'SUV',\n",
    " 'convertible',\n",
    " 'coupe',\n",
    " 'hatchback',\n",
    " 'sedan',\n",
    " 'truck',\n",
    " 'van',\n",
    " 'wagon',\n",
    " 'manual',\n",
    " 'unknown_transmission',\n",
    " 'trim10',\n",
    " 'trim2',\n",
    " 'trim9']"
   ]
  },
  {
   "cell_type": "code",
   "execution_count": null,
   "id": "bcd5218c",
   "metadata": {},
   "outputs": [],
   "source": [
    "train, validate, test = wrangle.split_cars(df[features])"
   ]
  },
  {
   "cell_type": "code",
   "execution_count": null,
   "id": "603e1d0a",
   "metadata": {},
   "outputs": [],
   "source": [
    "X_train = train.drop(columns = 'sellingprice')\n",
    "X_val = validate.drop(columns= 'sellingprice')\n",
    "X_test = test.drop(columns='sellingprice')\n",
    "\n",
    "y_train = train.sellingprice\n",
    "y_val = validate.sellingprice\n",
    "y_test = test.sellingprice"
   ]
  },
  {
   "cell_type": "code",
   "execution_count": null,
   "id": "da4a3a59",
   "metadata": {},
   "outputs": [],
   "source": []
  },
  {
   "cell_type": "code",
   "execution_count": null,
   "id": "80874419",
   "metadata": {},
   "outputs": [],
   "source": []
  },
  {
   "cell_type": "code",
   "execution_count": null,
   "id": "8f0266b1",
   "metadata": {},
   "outputs": [],
   "source": []
  },
  {
   "cell_type": "code",
   "execution_count": null,
   "id": "1708ef84",
   "metadata": {},
   "outputs": [],
   "source": []
  },
  {
   "cell_type": "code",
   "execution_count": null,
   "id": "0d211fb5",
   "metadata": {},
   "outputs": [],
   "source": [
    "# build pipeline\n",
    "pipeline = Pipeline([('scaler', MinMaxScaler()), ('model', xgb.XGBRegressor(eta=.1,\n",
    "                                                                           gamma=0,\n",
    "                                                                           min_child_weight=3,\n",
    "                                                                           max_depth=6))])"
   ]
  },
  {
   "cell_type": "code",
   "execution_count": null,
   "id": "b675b9f7",
   "metadata": {
    "scrolled": false
   },
   "outputs": [],
   "source": [
    "# fit model\n",
    "pipeline.fit(X_train, y_train)\n"
   ]
  },
  {
   "cell_type": "code",
   "execution_count": null,
   "id": "01fae4d5",
   "metadata": {},
   "outputs": [],
   "source": [
    "# predict\n",
    "yhat_train = pipeline.predict(X_train)\n",
    "yhat_val = pipeline.predict(X_val)"
   ]
  },
  {
   "cell_type": "code",
   "execution_count": null,
   "id": "49caf815",
   "metadata": {},
   "outputs": [],
   "source": [
    "rmse_train = mean_squared_error(y_train, yhat_train, squared=False)\n",
    "rmse_val = mean_squared_error(y_val, yhat_val, squared=False)\n",
    "r2_train = r2_score(y_train, yhat_train)\n",
    "r2_val = r2_score(y_val, yhat_val)\n",
    "print(f'In-sample RMSE: {rmse_train}, In-sample r2: {r2_train}')\n",
    "print(f'Out-of-sample RMSE: {rmse_val}, Out-of-sample r2: {r2_val}')\n"
   ]
  },
  {
   "cell_type": "code",
   "execution_count": null,
   "id": "8a7b2296",
   "metadata": {},
   "outputs": [],
   "source": []
  },
  {
   "cell_type": "code",
   "execution_count": null,
   "id": "277ed7a5",
   "metadata": {},
   "outputs": [],
   "source": [
    "print(rmse_val, r2_val)"
   ]
  },
  {
   "cell_type": "code",
   "execution_count": null,
   "id": "5ee9a3ba",
   "metadata": {},
   "outputs": [],
   "source": []
  },
  {
   "cell_type": "markdown",
   "id": "3ba0b82e",
   "metadata": {},
   "source": [
    "LRmodel - Best RMSE:  train=1470/97% , val=1474/97%\n",
    "\n",
    "XGmodel - Best RMSE:  train=1320/98% , val=1416/97%"
   ]
  },
  {
   "cell_type": "markdown",
   "id": "230552a5",
   "metadata": {},
   "source": [
    "    Predicting mean selling price (Mean baseline):  $8756 \n",
    "    Predicting MMR (MMR baseline):  $1659"
   ]
  },
  {
   "cell_type": "code",
   "execution_count": null,
   "id": "c77bc8e9",
   "metadata": {},
   "outputs": [],
   "source": []
  },
  {
   "cell_type": "code",
   "execution_count": null,
   "id": "86e37565",
   "metadata": {},
   "outputs": [],
   "source": [
    "import matplotlib.pyplot as plt"
   ]
  },
  {
   "cell_type": "code",
   "execution_count": null,
   "id": "b341b77f",
   "metadata": {},
   "outputs": [],
   "source": [
    "xgb.plot_importance()"
   ]
  },
  {
   "cell_type": "code",
   "execution_count": null,
   "id": "81e30315",
   "metadata": {},
   "outputs": [],
   "source": [
    "sorted_idx = xgb.feature_importances_.argsort()\n",
    "plt.barh(boston.feature_names[sorted_idx], xgb.feature_importances_[sorted_idx])\n",
    "plt.xlabel(\"Xgboost Feature Importance\")"
   ]
  },
  {
   "cell_type": "code",
   "execution_count": null,
   "id": "f70ffd74",
   "metadata": {},
   "outputs": [],
   "source": []
  },
  {
   "cell_type": "code",
   "execution_count": null,
   "id": "2f086eca",
   "metadata": {},
   "outputs": [],
   "source": [
    "df"
   ]
  },
  {
   "cell_type": "code",
   "execution_count": null,
   "id": "059d7079",
   "metadata": {},
   "outputs": [],
   "source": []
  },
  {
   "cell_type": "code",
   "execution_count": null,
   "id": "55f35c8d",
   "metadata": {},
   "outputs": [],
   "source": [
    "train"
   ]
  },
  {
   "cell_type": "code",
   "execution_count": null,
   "id": "0e917343",
   "metadata": {},
   "outputs": [],
   "source": []
  },
  {
   "cell_type": "code",
   "execution_count": null,
   "id": "c9a04eb6",
   "metadata": {},
   "outputs": [],
   "source": []
  },
  {
   "cell_type": "code",
   "execution_count": null,
   "id": "40687699",
   "metadata": {},
   "outputs": [],
   "source": []
  }
 ],
 "metadata": {
  "kernelspec": {
   "display_name": "Python 3 (ipykernel)",
   "language": "python",
   "name": "python3"
  },
  "language_info": {
   "codemirror_mode": {
    "name": "ipython",
    "version": 3
   },
   "file_extension": ".py",
   "mimetype": "text/x-python",
   "name": "python",
   "nbconvert_exporter": "python",
   "pygments_lexer": "ipython3",
   "version": "3.9.12"
  }
 },
 "nbformat": 4,
 "nbformat_minor": 5
}
